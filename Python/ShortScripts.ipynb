{
 "cells": [
  {
   "cell_type": "code",
   "execution_count": 1,
   "id": "814395d3-a555-4a5b-bd83-481d1a2a0ad6",
   "metadata": {},
   "outputs": [
    {
     "name": "stdout",
     "output_type": "stream",
     "text": [
      "['\\n', ' ', '!', '(', ')', ',', '-', '.', '0', '1', '2', '3', '4', '5', '6', '7', '8', '9', ':', ';', '?', 'A', 'B', 'C', 'D', 'E', 'F', 'G', 'H', 'I', 'J', 'K', 'L', 'M', 'N', 'O', 'P', 'Q', 'R', 'S', 'T', 'U', 'V', 'W', 'Y', 'a', 'b', 'c', 'd', 'e', 'f', 'g', 'h', 'i', 'j', 'k', 'l', 'm', 'n', 'o', 'p', 'q', 'r', 's', 't', 'u', 'v', 'w', 'x', 'y', 'z', 'æ', '̈', '—', '‘', '’', '“', '”']\n",
      "78\n"
     ]
    }
   ],
   "source": [
    "with open('timemachc.txt', 'r', encoding='utf-8') as f:\n",
    "    text = f.read()\n",
    "chars = sorted(set(text))\n",
    "print(chars)\n",
    "print(len(chars))\n",
    "# print(text[:200])    "
   ]
  },
  {
   "cell_type": "code",
   "execution_count": 2,
   "id": "edb29225-c1b6-4680-81bb-4bca11addec3",
   "metadata": {},
   "outputs": [
    {
     "name": "stdout",
     "output_type": "stream",
     "text": [
      "[4, 19, 6, 17]\n",
      "time\n"
     ]
    }
   ],
   "source": [
    "# charcters encoding and decoding\n",
    "chars = 'its time for Traveling'\n",
    "string_to_int = {ch:i for i, ch in enumerate(chars)}\n",
    "int_to_string = {i:ch for ch, i in string_to_int.items()}  \n",
    "encode = lambda s: [string_to_int[c] for c in s]\n",
    "\n",
    "def decode(l):\n",
    "    decoded_string = ''\n",
    "    for i in l:\n",
    "        if i in int_to_string:\n",
    "            decoded_string += int_to_string[i]\n",
    "        else:\n",
    "            decoded_string += '<UNK>'  # Use a placeholder for unknown characters\n",
    "    return decoded_string\n",
    "\n",
    "encoded_hello = encode('time')\n",
    "decoded_hello = decode(encoded_hello)\n",
    "print(encoded_hello)\n",
    "print(decoded_hello)\n",
    "\n"
   ]
  },
  {
   "cell_type": "code",
   "execution_count": 3,
   "id": "7bd85015-9c3e-406c-971a-dbb59f98d158",
   "metadata": {},
   "outputs": [
    {
     "name": "stdout",
     "output_type": "stream",
     "text": [
      "cpu\n"
     ]
    }
   ],
   "source": [
    "import torch\n",
    "device = 'cuda' if torch.cuda.is_available() else 'cpu'\n",
    "print(device)"
   ]
  },
  {
   "cell_type": "code",
   "execution_count": null,
   "id": "0e13d846-f510-4ced-956c-3d8ca4d1702c",
   "metadata": {},
   "outputs": [],
   "source": []
  }
 ],
 "metadata": {
  "kernelspec": {
   "display_name": "Python 3 (ipykernel)",
   "language": "python",
   "name": "python3"
  },
  "language_info": {
   "codemirror_mode": {
    "name": "ipython",
    "version": 3
   },
   "file_extension": ".py",
   "mimetype": "text/x-python",
   "name": "python",
   "nbconvert_exporter": "python",
   "pygments_lexer": "ipython3",
   "version": "3.12.3"
  }
 },
 "nbformat": 4,
 "nbformat_minor": 5
}
